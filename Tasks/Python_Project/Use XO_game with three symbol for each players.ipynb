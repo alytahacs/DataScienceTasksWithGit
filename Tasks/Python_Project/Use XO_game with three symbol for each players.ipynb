{
 "cells": [
  {
   "cell_type": "code",
   "execution_count": 1,
   "metadata": {},
   "outputs": [
    {
     "name": "stdout",
     "output_type": "stream",
     "text": [
      "--------\n",
      "0 |X |O \n",
      "--------\n",
      "0 |X |0 \n",
      "--------\n",
      "0 |X |O \n",
      "--------\n",
      "WOW ,,,, winner is Ali\n",
      "finish\n"
     ]
    }
   ],
   "source": [
    "import XO_game.xo_all_modules as t\n",
    "try:\n",
    "    print ('welcome to XO game')\n",
    "    print(\"\"\"we have four module please choice from these:\n",
    "          1. Human to Human\n",
    "          2. Human to dummy Comp\n",
    "          3. Human to intelligent Comp\n",
    "          4. intelligent Comp to intelligent Comp\n",
    "          \"\"\")\n",
    "    choice =int(input('please choice your mode'))\n",
    "    if choice ==1 :\n",
    "        print('aly')\n",
    "        game=t.XO_game_human_with_human('TwoPlayer')\n",
    "        game.create_game_Mode()\n",
    "        game.start_play()\n",
    "        print ('finish')\n",
    "    elif choice==2:\n",
    "        game=t.XO_game_human_with_computer_random('HumanToComputer')\n",
    "        game.create_game_Mode()\n",
    "        game.start_play()\n",
    "        print ('finish')\n",
    "    elif choice==3:\n",
    "        game=t.XO_game_human_with_computer_intelligent('HumanToIntelligentComp')\n",
    "        game.create_game_Mode()\n",
    "        game.start_play()\n",
    "        print ('finish')\n",
    "    elif choice==4:\n",
    "        game=t.XO_game_intell_comp_to_intell_comp('IntelligentCompToIntelligentComp')\n",
    "        game.create_game_Mode()\n",
    "        game.start_play()\n",
    "        print ('finish')\n",
    "    else:\n",
    "        print ('wrong choice')\n",
    "\n",
    "except Exception as e:\n",
    "    print(type(e).__name__)\n"
   ]
  },
  {
   "cell_type": "code",
   "execution_count": null,
   "metadata": {},
   "outputs": [],
   "source": []
  },
  {
   "cell_type": "code",
   "execution_count": null,
   "metadata": {},
   "outputs": [],
   "source": []
  }
 ],
 "metadata": {
  "kernelspec": {
   "display_name": "Python 3",
   "language": "python",
   "name": "python3"
  },
  "language_info": {
   "codemirror_mode": {
    "name": "ipython",
    "version": 3
   },
   "file_extension": ".py",
   "mimetype": "text/x-python",
   "name": "python",
   "nbconvert_exporter": "python",
   "pygments_lexer": "ipython3",
   "version": "3.7.6"
  }
 },
 "nbformat": 4,
 "nbformat_minor": 4
}
