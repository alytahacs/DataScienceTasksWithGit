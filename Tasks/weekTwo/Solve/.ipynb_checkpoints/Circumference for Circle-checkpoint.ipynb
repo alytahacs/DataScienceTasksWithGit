{
 "cells": [
  {
   "cell_type": "markdown",
   "metadata": {},
   "source": [
    "# circumference  for Circle"
   ]
  },
  {
   "cell_type": "code",
   "execution_count": 2,
   "metadata": {},
   "outputs": [
    {
     "name": "stdout",
     "output_type": "stream",
     "text": [
      "Write your circle Radius10\n"
     ]
    }
   ],
   "source": [
    "circle_raduis=float(input('Write your circle Radius'))"
   ]
  },
  {
   "cell_type": "code",
   "execution_count": 9,
   "metadata": {},
   "outputs": [
    {
     "name": "stdout",
     "output_type": "stream",
     "text": [
      "circumference =31.41592653589793\n"
     ]
    }
   ],
   "source": [
    "import math\n",
    "circumference= math.pi * circle_raduis\n",
    "print(f'circumference ={circumference}')"
   ]
  }
 ],
 "metadata": {
  "kernelspec": {
   "display_name": "Python 3",
   "language": "python",
   "name": "python3"
  },
  "language_info": {
   "codemirror_mode": {
    "name": "ipython",
    "version": 3
   },
   "file_extension": ".py",
   "mimetype": "text/x-python",
   "name": "python",
   "nbconvert_exporter": "python",
   "pygments_lexer": "ipython3",
   "version": "3.7.6"
  }
 },
 "nbformat": 4,
 "nbformat_minor": 4
}
