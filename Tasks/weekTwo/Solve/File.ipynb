{
 "cells": [
  {
   "cell_type": "code",
   "execution_count": 25,
   "metadata": {},
   "outputs": [],
   "source": [
    "my_file = open('test.txt', 'w')\n",
    "my_file.write('hello world ' * 5)\n",
    "my_file.close()"
   ]
  },
  {
   "cell_type": "code",
   "execution_count": 27,
   "metadata": {},
   "outputs": [],
   "source": [
    "my_file2=open('test.txt','r+')\n",
    "data=my_file2.read()\n",
    "my_file2.seek(0)\n",
    "my_file2.write(data.upper())\n",
    "my_file2.close()"
   ]
  },
  {
   "cell_type": "code",
   "execution_count": 28,
   "metadata": {},
   "outputs": [],
   "source": [
    "my_file3=open('test2.txt','w+')\n",
    "my_file3.writelines(['I love python\\n', 'welcome to data science\\n', 'Amazing tasks\\n','task finish'])\n",
    "my_file3.seek(0)\n",
    "data=my_file3.readlines()\n",
    "data[2]=data[2].upper()\n",
    "my_file3.seek(0)\n",
    "my_file3.writelines(data)\n",
    "my_file3.close()"
   ]
  },
  {
   "cell_type": "code",
   "execution_count": 29,
   "metadata": {},
   "outputs": [],
   "source": [
    "with open('test.txt', 'a+') as my_file:\n",
    "      my_file.write('\\nI Love Python')"
   ]
  },
  {
   "cell_type": "code",
   "execution_count": null,
   "metadata": {},
   "outputs": [],
   "source": []
  }
 ],
 "metadata": {
  "kernelspec": {
   "display_name": "Python 3",
   "language": "python",
   "name": "python3"
  },
  "language_info": {
   "codemirror_mode": {
    "name": "ipython",
    "version": 3
   },
   "file_extension": ".py",
   "mimetype": "text/x-python",
   "name": "python",
   "nbconvert_exporter": "python",
   "pygments_lexer": "ipython3",
   "version": "3.7.6"
  }
 },
 "nbformat": 4,
 "nbformat_minor": 4
}
