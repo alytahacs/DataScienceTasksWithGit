{
 "cells": [
  {
   "cell_type": "markdown",
   "metadata": {},
   "source": [
    "# circumference rectangle."
   ]
  },
  {
   "cell_type": "code",
   "execution_count": 4,
   "metadata": {},
   "outputs": [
    {
     "name": "stdout",
     "output_type": "stream",
     "text": [
      "Write your rectangle height(side b) 5\n",
      "Write your rectangle length (side a) 2\n",
      "Circumference rectangle=10.0\n"
     ]
    }
   ],
   "source": [
    "rectangle_height=float(input('Write your rectangle height(side b) '))\n",
    "rectangle_length=float(input('Write your rectangle length (side a) '))\n",
    "Circum_rectangle=rectangle_height * rectangle_length\n",
    "print(f'Circumference rectangle= {Circum_rectangle}')"
   ]
  },
  {
   "cell_type": "code",
   "execution_count": null,
   "metadata": {},
   "outputs": [],
   "source": []
  }
 ],
 "metadata": {
  "kernelspec": {
   "display_name": "Python 3",
   "language": "python",
   "name": "python3"
  },
  "language_info": {
   "codemirror_mode": {
    "name": "ipython",
    "version": 3
   },
   "file_extension": ".py",
   "mimetype": "text/x-python",
   "name": "python",
   "nbconvert_exporter": "python",
   "pygments_lexer": "ipython3",
   "version": "3.7.6"
  }
 },
 "nbformat": 4,
 "nbformat_minor": 4
}
