{
 "cells": [
  {
   "cell_type": "code",
   "execution_count": 11,
   "metadata": {},
   "outputs": [
    {
     "name": "stdout",
     "output_type": "stream",
     "text": [
      "old s7.txt new i7.txt\n",
      "old t0.docx new p2.docx\n",
      "old t4.Jpeg new u3.Jpeg\n"
     ]
    }
   ],
   "source": [
    "##rename\n",
    "import os\n",
    "import random as r\n",
    "import string\n",
    "my_files=os.listdir('./files')\n",
    "new_file=[]\n",
    "for file in my_files:\n",
    "    file_name=r.choice(string.ascii_lowercase)+str(r.randint(0,9))\n",
    "    while file_name in  new_file:\n",
    "            file_name=r.choice(string.ascii_lowercase)+str(r.randint(0,9))\n",
    "    extension=file.split('.')[1]\n",
    "    print(f'old {file} new {file_name}.{extension}')\n",
    "    new_file.append(file_name)\n",
    "    os.rename('./files/'+file,'./files/'+file_name+'.'+extension)"
   ]
  },
  {
   "cell_type": "code",
   "execution_count": null,
   "metadata": {},
   "outputs": [],
   "source": []
  }
 ],
 "metadata": {
  "kernelspec": {
   "display_name": "Python 3",
   "language": "python",
   "name": "python3"
  },
  "language_info": {
   "codemirror_mode": {
    "name": "ipython",
    "version": 3
   },
   "file_extension": ".py",
   "mimetype": "text/x-python",
   "name": "python",
   "nbconvert_exporter": "python",
   "pygments_lexer": "ipython3",
   "version": "3.7.6"
  }
 },
 "nbformat": 4,
 "nbformat_minor": 4
}
